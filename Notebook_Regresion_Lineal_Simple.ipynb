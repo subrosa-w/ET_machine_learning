{
 "cells": [
  {
   "cell_type": "markdown",
   "id": "5071b8a7",
   "metadata": {},
   "source": [
    "# 📘 Regresión Lineal Simple - Predicción de MatchKills\n",
    "\n",
    "Usando la variable `TimeAlive` como predictor."
   ]
  },
  {
   "cell_type": "markdown",
   "id": "b315c3dd",
   "metadata": {},
   "source": [
    "## 1. Importar Librerías"
   ]
  },
  {
   "cell_type": "code",
   "execution_count": null,
   "id": "bee707ab",
   "metadata": {},
   "outputs": [],
   "source": [
    "import pandas as pd\n",
    "import matplotlib.pyplot as plt\n",
    "import seaborn as sns\n",
    "from sklearn.linear_model import LinearRegression\n",
    "from sklearn.model_selection import train_test_split\n",
    "from sklearn.metrics import mean_squared_error, mean_absolute_error, r2_score"
   ]
  },
  {
   "cell_type": "markdown",
   "id": "7db365aa",
   "metadata": {},
   "source": [
    "## 2. Carga del Dataset"
   ]
  },
  {
   "cell_type": "code",
   "execution_count": null,
   "id": "84b605b1",
   "metadata": {},
   "outputs": [],
   "source": [
    "df = pd.read_csv('/mnt/data/CSGO_dataset_limpio_sin_matriz.csv')\n",
    "df.head()"
   ]
  },
  {
   "cell_type": "code",
   "execution_count": null,
   "id": "85d25b29",
   "metadata": {},
   "outputs": [],
   "source": [
    "# 🔧 Conversión de columnas numéricas escritas como texto con puntos\n",
    "columnas_numericas = ['TimeAlive', 'MatchAssists', 'MatchHeadshots', 'TeamStartingEquipmentValue', 'MatchKills']\n",
    "\n",
    "for col in columnas_numericas:\n",
    "    df[col] = df[col].astype(str).str.replace('.', '', regex=False)\n",
    "    df[col] = pd.to_numeric(df[col], errors='coerce')\n",
    "\n",
    "df = df.dropna(subset=columnas_numericas)\n",
    "df.head()\n"
   ]
  },
  {
   "cell_type": "markdown",
   "id": "b66a2f7f",
   "metadata": {},
   "source": [
    "## 3. Análisis Exploratorio de Datos (EDA)"
   ]
  },
  {
   "cell_type": "code",
   "execution_count": null,
   "id": "134f4dc8",
   "metadata": {},
   "outputs": [],
   "source": [
    "sns.histplot(df['MatchKills'], kde=True)\n",
    "plt.title(\"Distribución de MatchKills\")\n",
    "plt.xlabel(\"MatchKills\")\n",
    "plt.ylabel(\"Frecuencia\")\n",
    "plt.show()"
   ]
  },
  {
   "cell_type": "markdown",
   "id": "7e07b143",
   "metadata": {},
   "source": [
    "## 4. Preparación de Datos para el Modelo"
   ]
  },
  {
   "cell_type": "code",
   "execution_count": null,
   "id": "1436114a",
   "metadata": {},
   "outputs": [],
   "source": [
    "df_modelo = df[['TimeAlive', 'MatchKills']].dropna()\n",
    "X = df_modelo[['TimeAlive']]\n",
    "y = df_modelo['MatchKills']\n",
    "X_train, X_test, y_train, y_test = train_test_split(X, y, test_size=0.2, random_state=42)"
   ]
  },
  {
   "cell_type": "markdown",
   "id": "3b65fc79",
   "metadata": {},
   "source": [
    "## 5. Modelo de Regresión Lineal"
   ]
  },
  {
   "cell_type": "code",
   "execution_count": null,
   "id": "4c1005d7",
   "metadata": {},
   "outputs": [],
   "source": [
    "modelo = LinearRegression()\n",
    "modelo.fit(X_train, y_train)\n",
    "y_pred = modelo.predict(X_test)"
   ]
  },
  {
   "cell_type": "markdown",
   "id": "780bb055",
   "metadata": {},
   "source": [
    "## 6. Evaluación del Modelo"
   ]
  },
  {
   "cell_type": "code",
   "execution_count": null,
   "id": "272b7d49",
   "metadata": {},
   "outputs": [],
   "source": [
    "print(\"R²:\", r2_score(y_test, y_pred))\n",
    "print(\"MAE:\", mean_absolute_error(y_test, y_pred))\n",
    "print(\"RMSE:\", mean_squared_error(y_test, y_pred, squared=False))"
   ]
  },
  {
   "cell_type": "code",
   "execution_count": null,
   "id": "35275291",
   "metadata": {},
   "outputs": [],
   "source": [
    "# Gráfico de dispersión con línea de regresión\n",
    "plt.figure(figsize=(8,5))\n",
    "sns.scatterplot(x=X_test['TimeAlive'], y=y_test, label='Datos Reales')\n",
    "sns.lineplot(x=X_test['TimeAlive'], y=y_pred, color='red', label='Regresión')\n",
    "plt.title('Regresión Lineal Simple - TimeAlive vs MatchKills')\n",
    "plt.xlabel('TimeAlive')\n",
    "plt.ylabel('MatchKills')\n",
    "plt.legend()\n",
    "plt.show()"
   ]
  }
 ],
 "metadata": {},
 "nbformat": 4,
 "nbformat_minor": 5
}
